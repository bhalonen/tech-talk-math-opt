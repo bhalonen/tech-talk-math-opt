{
 "cells": [
  {
   "cell_type": "markdown",
   "metadata": {},
   "source": [
    "Install the dependencies we are going to use. JuMP is a Julia mathematical optimization front end and problem builder, CSV parses .csv files, and GLPK is a free open source solver. (add these at the julia repl) with <;add JuMP>"
   ]
  },
  {
   "cell_type": "code",
   "execution_count": 4,
   "metadata": {},
   "outputs": [
    {
     "name": "stderr",
     "output_type": "stream",
     "text": [
      "┌ Info: Precompiling GLPK [60bf3e95-4087-53dc-ae20-288a0d20c6a6]\n",
      "└ @ Base loading.jl:1242\n"
     ]
    }
   ],
   "source": [
    "using JuMP\n",
    "using CSV\n",
    "using GLPK"
   ]
  },
  {
   "cell_type": "markdown",
   "metadata": {},
   "source": [
    "First we will parse the problem specification."
   ]
  },
  {
   "cell_type": "code",
   "execution_count": 57,
   "metadata": {},
   "outputs": [
    {
     "data": {
      "text/html": [
       "<table class=\"data-frame\"><thead><tr><th></th><th>Column1</th><th>Column2</th><th>Column3</th><th>Column4</th><th>Column5</th><th>Column6</th><th>Column7</th><th>Column8</th><th>Column9</th></tr><tr><th></th><th>Int64</th><th>Int64</th><th>Int64</th><th>Int64</th><th>Int64</th><th>Int64</th><th>Int64</th><th>Int64</th><th>Int64</th></tr></thead><tbody><p>9 rows × 9 columns</p><tr><th>1</th><td>7</td><td>0</td><td>0</td><td>0</td><td>0</td><td>0</td><td>0</td><td>0</td><td>6</td></tr><tr><th>2</th><td>0</td><td>0</td><td>5</td><td>0</td><td>0</td><td>0</td><td>2</td><td>0</td><td>0</td></tr><tr><th>3</th><td>0</td><td>3</td><td>0</td><td>4</td><td>0</td><td>7</td><td>0</td><td>9</td><td>0</td></tr><tr><th>4</th><td>0</td><td>0</td><td>2</td><td>1</td><td>0</td><td>8</td><td>5</td><td>0</td><td>0</td></tr><tr><th>5</th><td>3</td><td>0</td><td>0</td><td>7</td><td>0</td><td>9</td><td>0</td><td>0</td><td>1</td></tr><tr><th>6</th><td>0</td><td>0</td><td>9</td><td>2</td><td>0</td><td>4</td><td>3</td><td>0</td><td>0</td></tr><tr><th>7</th><td>0</td><td>8</td><td>0</td><td>9</td><td>0</td><td>1</td><td>0</td><td>5</td><td>0</td></tr><tr><th>8</th><td>0</td><td>0</td><td>3</td><td>0</td><td>0</td><td>0</td><td>7</td><td>0</td><td>0</td></tr><tr><th>9</th><td>1</td><td>0</td><td>0</td><td>0</td><td>0</td><td>0</td><td>0</td><td>0</td><td>8</td></tr></tbody></table>"
      ],
      "text/latex": [
       "\\begin{tabular}{r|ccccccccc}\n",
       "\t& Column1 & Column2 & Column3 & Column4 & Column5 & Column6 & Column7 & Column8 & Column9\\\\\n",
       "\t\\hline\n",
       "\t& Int64 & Int64 & Int64 & Int64 & Int64 & Int64 & Int64 & Int64 & Int64\\\\\n",
       "\t\\hline\n",
       "\t1 & 7 & 0 & 0 & 0 & 0 & 0 & 0 & 0 & 6 \\\\\n",
       "\t2 & 0 & 0 & 5 & 0 & 0 & 0 & 2 & 0 & 0 \\\\\n",
       "\t3 & 0 & 3 & 0 & 4 & 0 & 7 & 0 & 9 & 0 \\\\\n",
       "\t4 & 0 & 0 & 2 & 1 & 0 & 8 & 5 & 0 & 0 \\\\\n",
       "\t5 & 3 & 0 & 0 & 7 & 0 & 9 & 0 & 0 & 1 \\\\\n",
       "\t6 & 0 & 0 & 9 & 2 & 0 & 4 & 3 & 0 & 0 \\\\\n",
       "\t7 & 0 & 8 & 0 & 9 & 0 & 1 & 0 & 5 & 0 \\\\\n",
       "\t8 & 0 & 0 & 3 & 0 & 0 & 0 & 7 & 0 & 0 \\\\\n",
       "\t9 & 1 & 0 & 0 & 0 & 0 & 0 & 0 & 0 & 8 \\\\\n",
       "\\end{tabular}\n"
      ],
      "text/plain": [
       "9×9 DataFrames.DataFrame. Omitted printing of 2 columns\n",
       "│ Row │ Column1 │ Column2 │ Column3 │ Column4 │ Column5 │ Column6 │ Column7 │\n",
       "│     │ \u001b[90mInt64\u001b[39m   │ \u001b[90mInt64\u001b[39m   │ \u001b[90mInt64\u001b[39m   │ \u001b[90mInt64\u001b[39m   │ \u001b[90mInt64\u001b[39m   │ \u001b[90mInt64\u001b[39m   │ \u001b[90mInt64\u001b[39m   │\n",
       "├─────┼─────────┼─────────┼─────────┼─────────┼─────────┼─────────┼─────────┤\n",
       "│ 1   │ 7       │ 0       │ 0       │ 0       │ 0       │ 0       │ 0       │\n",
       "│ 2   │ 0       │ 0       │ 5       │ 0       │ 0       │ 0       │ 2       │\n",
       "│ 3   │ 0       │ 3       │ 0       │ 4       │ 0       │ 7       │ 0       │\n",
       "│ 4   │ 0       │ 0       │ 2       │ 1       │ 0       │ 8       │ 5       │\n",
       "│ 5   │ 3       │ 0       │ 0       │ 7       │ 0       │ 9       │ 0       │\n",
       "│ 6   │ 0       │ 0       │ 9       │ 2       │ 0       │ 4       │ 3       │\n",
       "│ 7   │ 0       │ 8       │ 0       │ 9       │ 0       │ 1       │ 0       │\n",
       "│ 8   │ 0       │ 0       │ 3       │ 0       │ 0       │ 0       │ 7       │\n",
       "│ 9   │ 1       │ 0       │ 0       │ 0       │ 0       │ 0       │ 0       │"
      ]
     },
     "execution_count": 57,
     "metadata": {},
     "output_type": "execute_result"
    }
   ],
   "source": [
    "problem = CSV.read(\"problem.csv\"; delim=\"\\t\", header=false)\n",
    "# problem = CSV.read(\"fixedSudoko16.csv\",header=false)"
   ]
  },
  {
   "cell_type": "markdown",
   "metadata": {},
   "source": [
    "Build the problem into a mathematical expression. Note that all data is stored as binary data."
   ]
  },
  {
   "cell_type": "code",
   "execution_count": 58,
   "metadata": {},
   "outputs": [],
   "source": [
    "model = Model(\n",
    "    with_optimizer(GLPK.Optimizer, tm_lim = 60000, msg_lev = GLPK.OFF)\n",
    ")\n",
    "numberRows = size(problem, 1)\n",
    "cellSize = Int(sqrt(numberRows))\n",
    "\n",
    "@variable(model, entries[1:numberRows,1:numberRows,1:numberRows], Bin)\n",
    "#only one number in each cell\n",
    "foreach(1:numberRows) do idxX\n",
    "    foreach(1:numberRows) do idxY\n",
    "        @constraint(model, sum(entries[idxX,idxY,:]) == 1)\n",
    "    end\n",
    "end\n",
    "# each row has one of each entry\n",
    "foreach(1:numberRows) do idxX\n",
    "    foreach(1:numberRows) do idxEntry \n",
    "        @constraint(model, sum(entries[idxX, :, idxEntry]) == 1)\n",
    "    end\n",
    "end\n",
    "# each column has one of each entry\n",
    "foreach(1:numberRows) do idxY\n",
    "    foreach(1:numberRows) do idxEntry \n",
    "        @constraint(model, sum(entries[:, idxY, idxEntry]) == 1)\n",
    "    end\n",
    "end\n",
    "# each block has one of each entry\n",
    "foreach(1:cellSize) do blockXidx\n",
    "    foreach(1:cellSize) do blockYidx\n",
    "        foreach(1:numberRows) do idxEntry\n",
    "            rangeX = (blockXidx-1)*cellSize+1:(blockXidx)*cellSize\n",
    "            rangeY = (blockYidx-1)*cellSize+1:(blockYidx)*cellSize\n",
    "            @constraint(model, sum(entries[rangeX,rangeY,idxEntry]) == 1)\n",
    "        end\n",
    "    end\n",
    "end\n",
    "# set the values from the given problem\n",
    "foreach(1:numberRows) do idxX\n",
    "    foreach(1:numberRows) do idxY\n",
    "        foreach(1:numberRows) do idxEntry\n",
    "            if problem[idxX, idxY] == idxEntry\n",
    "                @constraint(model, entries[idxX,idxY,idxEntry] == 1)\n",
    "            end\n",
    "        end\n",
    "    end\n",
    "end"
   ]
  },
  {
   "cell_type": "markdown",
   "metadata": {},
   "source": [
    "Solve the problem."
   ]
  },
  {
   "cell_type": "code",
   "execution_count": 59,
   "metadata": {},
   "outputs": [],
   "source": [
    "optimize!(model)"
   ]
  },
  {
   "cell_type": "code",
   "execution_count": 60,
   "metadata": {},
   "outputs": [
    {
     "data": {
      "text/plain": [
       "9×9 Array{Int64,2}:\n",
       " 7  2  4  8  9  5  1  3  6\n",
       " 8  9  5  6  1  3  2  7  4\n",
       " 6  3  1  4  2  7  8  9  5\n",
       " 4  7  2  1  3  8  5  6  9\n",
       " 3  6  8  7  5  9  4  2  1\n",
       " 5  1  9  2  6  4  3  8  7\n",
       " 2  8  7  9  4  1  6  5  3\n",
       " 9  4  3  5  8  6  7  1  2\n",
       " 1  5  6  3  7  2  9  4  8"
      ]
     },
     "execution_count": 60,
     "metadata": {},
     "output_type": "execute_result"
    }
   ],
   "source": [
    "entryData = round.(value.(entries))\n",
    "result = [findfirst(val -> val == 1, entryData[idxX,idxY,:]) for idxX in 1:numberRows, idxY in 1:numberRows ]"
   ]
  }
 ],
 "metadata": {
  "kernelspec": {
   "display_name": "Julia 1.2.0",
   "language": "julia",
   "name": "julia-1.2"
  },
  "language_info": {
   "file_extension": ".jl",
   "mimetype": "application/julia",
   "name": "julia",
   "version": "1.2.0"
  }
 },
 "nbformat": 4,
 "nbformat_minor": 2
}
